{
 "cells": [
  {
   "cell_type": "markdown",
   "metadata": {},
   "source": [
    "Using data augmentation to generate synthetic data for regression. "
   ]
  },
  {
   "cell_type": "code",
   "execution_count": 14,
   "metadata": {},
   "outputs": [
    {
     "name": "stdout",
     "output_type": "stream",
     "text": [
      "[[-4.76364016e-04  2.12843399e-03  6.74471249e-02 -1.43872616e+02\n",
      "  -1.14491711e+01  1.77393483e+02 -6.34521640e+01  3.55411937e-04\n",
      "  -7.71599317e+03]\n",
      " [ 4.75587489e-03  2.75300471e-02 -1.48926167e-02  1.13589787e+01\n",
      "  -4.28512544e+01 -1.34865311e+02 -3.39810894e+01 -5.15143197e-04\n",
      "   9.01790018e+02]]\n",
      "Original Data:\n",
      " [[-1.2223e+02  3.7880e+01  4.1000e+01  8.8000e+02  1.2900e+02  3.2200e+02\n",
      "   1.2600e+02  8.3252e+00  4.5260e+05]\n",
      " [-1.2222e+02  3.7860e+01  2.1000e+01  7.0990e+03  1.1060e+03  2.4010e+03\n",
      "   1.1380e+03  8.3014e+00  3.5850e+05]]\n",
      "\n",
      "Augmented Data:\n",
      " [[-1.22230476e+02  3.78821284e+01  4.10674471e+01  7.36127384e+02\n",
      "   1.17550829e+02  4.99393483e+02  6.25478360e+01  8.32555541e+00\n",
      "   4.44884007e+05]\n",
      " [-1.22215244e+02  3.78875300e+01  2.09851074e+01  7.11035898e+03\n",
      "   1.06314875e+03  2.26613469e+03  1.10401891e+03  8.30088486e+00\n",
      "   3.59401790e+05]]\n"
     ]
    }
   ],
   "source": [
    "import numpy as np\n",
    "\n",
    "def add_noise_to_data(data, std_devs):\n",
    "    noise = np.random.normal(0, std_devs, data.shape)\n",
    "    print(noise)\n",
    "    return data + noise\n",
    "\n",
    "# Example usage\n",
    "original_data = np.array([\n",
    "    [-122.23, 37.88, 41.0, 880.0, 129.0, 322.0, 126.0, 8.3252, 452600.0],\n",
    "    [-122.22, 37.86, 21.0, 7099.0, 1106.0, 2401.0, 1138.0, 8.3014, 358500.0]\n",
    "])\n",
    "\n",
    "# Assuming std_deviation values for each feature and label as a fraction of their range\n",
    "std_devs = np.array([0.01, 0.01, 0.1, 200.0, 100.0, 200.0, 100.0, 0.001, 10000.0])\n",
    "\n",
    "augmented_data = add_noise_to_data(original_data, std_devs)\n",
    "print(\"Original Data:\\n\", original_data)\n",
    "print(\"\\nAugmented Data:\\n\", augmented_data)\n"
   ]
  },
  {
   "cell_type": "code",
   "execution_count": 15,
   "metadata": {},
   "outputs": [],
   "source": [
    "augmented_data = [] \n",
    "\n",
    "scale_range = [0.5, 0.75, 1.25, 1.5] \n",
    "\n",
    "# Load the available labeled data \n",
    "\n",
    "df = pd.read_csv(\"housing_training.csv\") \n",
    "\n",
    "for _, row in df.iterrows(): \n",
    "   for scale_factor in scale_range: \n",
    "\n",
    "        new_row = row.copy() \n",
    "\n",
    "        new_row[\"median_house_value\"] = scale(row[\"median_house_value\"], scale_factor) \n",
    "\n",
    "        augmented_data.append(new_row) \n"
   ]
  }
 ],
 "metadata": {
  "kernelspec": {
   "display_name": "Python 3",
   "language": "python",
   "name": "python3"
  },
  "language_info": {
   "codemirror_mode": {
    "name": "ipython",
    "version": 3
   },
   "file_extension": ".py",
   "mimetype": "text/x-python",
   "name": "python",
   "nbconvert_exporter": "python",
   "pygments_lexer": "ipython3",
   "version": "3.9.6"
  },
  "orig_nbformat": 4
 },
 "nbformat": 4,
 "nbformat_minor": 2
}
